{
 "cells": [
  {
   "cell_type": "markdown",
   "metadata": {
    "id": "z8QTC9lL1UGZ"
   },
   "source": [
    "# **Menghubungkan dengan Directory Google Drive**"
   ]
  },
  {
   "cell_type": "markdown",
   "metadata": {
    "id": "OaIR_pvEEbwL"
   },
   "source": [
    "### **Mengimport Package yang dibutuhkan**"
   ]
  },
  {
   "cell_type": "code",
   "execution_count": 1,
   "metadata": {
    "executionInfo": {
     "elapsed": 833,
     "status": "ok",
     "timestamp": 1615689443670,
     "user": {
      "displayName": "Nasiya Alifah Utami",
      "photoUrl": "https://lh3.googleusercontent.com/a-/AOh14Gium-3gPAsLkKS6cMavoNV5VEHPjv4QqcJi_eY=s64",
      "userId": "12094474438567438741"
     },
     "user_tz": -420
    },
    "id": "Z2YDnjcAEl32"
   },
   "outputs": [],
   "source": [
    "import pandas as pd\n",
    "import xlrd as xl\n",
    "import networkx as net\n",
    "import matplotlib.pyplot as plt"
   ]
  },
  {
   "cell_type": "markdown",
   "metadata": {
    "id": "F4qKnEDjjnvn"
   },
   "source": [
    "# **Membuat Struktur Graph**"
   ]
  },
  {
   "cell_type": "code",
   "execution_count": 2,
   "metadata": {
    "executionInfo": {
     "elapsed": 829,
     "status": "ok",
     "timestamp": 1615689446719,
     "user": {
      "displayName": "Nasiya Alifah Utami",
      "photoUrl": "https://lh3.googleusercontent.com/a-/AOh14Gium-3gPAsLkKS6cMavoNV5VEHPjv4QqcJi_eY=s64",
      "userId": "12094474438567438741"
     },
     "user_tz": -420
    },
    "id": "KLbsZPv6je7y"
   },
   "outputs": [],
   "source": [
    "class Graph:\n",
    "    # Menginisiasi graph yang akan digunakan\n",
    "    def __init__(self, graph_dict=None, directed=True):\n",
    "        self.graph_dict = graph_dict or {}\n",
    "        self.directed = directed\n",
    "        if not directed:\n",
    "            self.make_undirected()\n",
    "    # Membuat undirected graph dengan menambahkan symmetric edges\n",
    "    def make_undirected(self):\n",
    "        for a in list(self.graph_dict.keys()):\n",
    "            for (b, dist) in self.graph_dict[a].items():\n",
    "                self.graph_dict.setdefault(b, {})[a] = dist\n",
    "    # Menghubungkan dua verteks dan memberi weight, serta menambahkan inverse link jika graph undirected\n",
    "    def connect(self, A, B, distance=1):\n",
    "        self.graph_dict.setdefault(A, {})[B] = distance\n",
    "        if not self.directed:\n",
    "            self.graph_dict.setdefault(B, {})[A] = distance\n",
    "    # Menampilkan semua node atau verteks yang bertetanggaan\n",
    "    def get(self, a, b=None):\n",
    "        links = self.graph_dict.setdefault(a, {})\n",
    "        if b is None:\n",
    "            return links\n",
    "        else:\n",
    "            return links.get(b)\n",
    "    # Menampilkan semua verteks yang terdapat didalam graph\n",
    "    def nodes(self):\n",
    "        s1 = set([k for k in self.graph_dict.keys()])\n",
    "        s2 = set([k2 for v in self.graph_dict.values() for k2, v2 in v.items()])\n",
    "        nodes = s1.union(s2)\n",
    "        return list(nodes)\n"
   ]
  },
  {
   "cell_type": "markdown",
   "metadata": {
    "id": "4lT6OAwDj9Ua"
   },
   "source": [
    "# **Membuat Struktur Setiap Node**"
   ]
  },
  {
   "cell_type": "code",
   "execution_count": 3,
   "metadata": {
    "executionInfo": {
     "elapsed": 863,
     "status": "ok",
     "timestamp": 1615689449681,
     "user": {
      "displayName": "Nasiya Alifah Utami",
      "photoUrl": "https://lh3.googleusercontent.com/a-/AOh14Gium-3gPAsLkKS6cMavoNV5VEHPjv4QqcJi_eY=s64",
      "userId": "12094474438567438741"
     },
     "user_tz": -420
    },
    "id": "f81D26iVkCtd"
   },
   "outputs": [],
   "source": [
    "class Node:\n",
    "    # Menginisiasi node\n",
    "    def __init__(self, name:str, parent:str):\n",
    "        self.name = name\n",
    "        self.parent = parent\n",
    "        # Jarak ke start point\n",
    "        self.g = 0 \n",
    "        # Jarak ke goal point\n",
    "        self.h = 0\n",
    "        # Total Cost\n",
    "        self.f = 0\n",
    "    # Membandingkan nodes\n",
    "    def __eq__(self, other):\n",
    "        return self.name == other.name\n",
    "    # Mengurutkan nodes\n",
    "    def __lt__(self, other):\n",
    "         return self.f < other.f\n",
    "    # Menampilkan node\n",
    "    def __repr__(self):\n",
    "        return ('({0},{1})'.format(self.name, self.f))"
   ]
  },
  {
   "cell_type": "markdown",
   "metadata": {
    "id": "eFB0ZeRKkPIQ"
   },
   "source": [
    "# **Fungsi untuk A* Search**"
   ]
  },
  {
   "cell_type": "code",
   "execution_count": 4,
   "metadata": {
    "executionInfo": {
     "elapsed": 892,
     "status": "ok",
     "timestamp": 1615689453869,
     "user": {
      "displayName": "Nasiya Alifah Utami",
      "photoUrl": "https://lh3.googleusercontent.com/a-/AOh14Gium-3gPAsLkKS6cMavoNV5VEHPjv4QqcJi_eY=s64",
      "userId": "12094474438567438741"
     },
     "user_tz": -420
    },
    "id": "z8JeOqUTkcNh"
   },
   "outputs": [],
   "source": [
    "def astar_search(graph, heuristics, start, end):\n",
    "\n",
    "    open = []\n",
    "    closed = []\n",
    "    start_node = Node(start, None)\n",
    "    goal_node = Node(end, None)\n",
    "    open.append(start_node)\n",
    "    \n",
    "    while len(open) > 0:\n",
    "        # Mengurutkan node yang berada di open list untuk mendapatkan node dengan cost terkecil di awal list\n",
    "        open.sort()\n",
    "        # Mengambil node dengan nilai cost terkecil\n",
    "        current_node = open.pop(0)\n",
    "        # Menambahkan current node tadi kedalam closed list\n",
    "        closed.append(current_node)\n",
    "        \n",
    "        # Cek apakah goal sudah dicapai atau belum, kemudian return path nya\n",
    "        if current_node == goal_node:\n",
    "            path = []\n",
    "            while current_node != start_node:\n",
    "                path.append(current_node.name + ': ' + str(current_node.g))\n",
    "                current_node = current_node.parent\n",
    "            path.append(start_node.name + ': ' + str(start_node.g))\n",
    "            # Menampilkan path yang telah di reversed\n",
    "            return path[::-1]\n",
    "\n",
    "        # Mengambil neighbors node dari current node\n",
    "        neighbors = graph.get(current_node.name)\n",
    "        \n",
    "        # Loop neighbors\n",
    "        for key, value in neighbors.items():\n",
    "            # membuat  neighbor node\n",
    "            neighbor = Node(key, current_node)\n",
    "            # cek apakah neighbor ada di closed list atau tidak\n",
    "            if(neighbor in closed):\n",
    "                continue\n",
    "            # Mengitung full path cost\n",
    "            neighbor.g = current_node.g + graph.get(current_node.name, neighbor.name)\n",
    "            neighbor.h = heuristics.get(neighbor.name)\n",
    "            neighbor.f = neighbor.g + neighbor.h\n",
    "            # cek apakah neighbor ada di open value atau tidak dan memiliki nilai f yang lebih kecil atau tidak\n",
    "            if(add_to_open(open, neighbor) == True):\n",
    "                open.append(neighbor)\n",
    "\n",
    "    # Return None, jika tidak ada path yang memungkinkan\n",
    "    return None"
   ]
  },
  {
   "cell_type": "code",
   "execution_count": 5,
   "metadata": {
    "executionInfo": {
     "elapsed": 833,
     "status": "ok",
     "timestamp": 1615689457028,
     "user": {
      "displayName": "Nasiya Alifah Utami",
      "photoUrl": "https://lh3.googleusercontent.com/a-/AOh14Gium-3gPAsLkKS6cMavoNV5VEHPjv4QqcJi_eY=s64",
      "userId": "12094474438567438741"
     },
     "user_tz": -420
    },
    "id": "ka42oOfskkTu"
   },
   "outputs": [],
   "source": [
    "# Fungsi untuk mengecek apakah neighbor harus masuk ke openlist atau tidak\n",
    "def add_to_open(open, neighbor):\n",
    "    for node in open:\n",
    "        if (neighbor == node and neighbor.f > node.f):\n",
    "            return False\n",
    "    return True"
   ]
  },
  {
   "cell_type": "markdown",
   "metadata": {
    "id": "hvhBeu8DkmrM"
   },
   "source": [
    "# **Mengaplikasikan A* Search**"
   ]
  },
  {
   "cell_type": "code",
   "execution_count": 7,
   "metadata": {
    "colab": {
     "base_uri": "https://localhost:8080/"
    },
    "executionInfo": {
     "elapsed": 866,
     "status": "ok",
     "timestamp": 1615689459771,
     "user": {
      "displayName": "Nasiya Alifah Utami",
      "photoUrl": "https://lh3.googleusercontent.com/a-/AOh14Gium-3gPAsLkKS6cMavoNV5VEHPjv4QqcJi_eY=s64",
      "userId": "12094474438567438741"
     },
     "user_tz": -420
    },
    "id": "akFgFKJxNHPu",
    "outputId": "7ed2ca33-26b6-4205-8596-0e16ffffb79e"
   },
   "outputs": [
    {
     "name": "stdout",
     "output_type": "stream",
     "text": [
      "['Arus Jati: 0', 'Jatinegara Kaum: 600', 'Jalan Taruna: 2200', 'Kayu Putih: 3800', 'Haji Ten: 5600', 'Percetakan Negara: 6250', 'Paseban Raya: 8350', 'Kramat: 9150', 'STMIK Nusa Mandiri: 10750']\n"
     ]
    }
   ],
   "source": [
    "def main():\n",
    "    graph = Graph()\n",
    "    \n",
    "    df = pd.read_excel('Data Set.xlsx')\n",
    "    # Masukkan data dalam graph\n",
    "    for i in range(0,(len(df))):\n",
    "       graph.connect(df.loc[i,'awal'], df.loc[i,'akhir'], df.loc[i,'jarak'])\n",
    "    graph.make_undirected()\n",
    "    # Menginput fungsi heuristics\n",
    "    heuristics = {}\n",
    "    hn = pd.read_excel('Data Set.xlsx', sheet_name='h(n)')\n",
    "    for i in range(0,(len(hn))):\n",
    "      heuristics[hn.loc[i,'node']] = hn.loc[i,'hn']\n",
    "\n",
    "    # Menggunakan algoritma astar\n",
    "    my = astar_search(graph, heuristics, 'Arus Jati', 'STMIK Nusa Mandiri')\n",
    "    print(my)\n",
    "\n",
    "# Menjalankan main function\n",
    "if __name__ == \"__main__\": main()"
   ]
  },
  {
   "cell_type": "code",
   "execution_count": null,
   "metadata": {},
   "outputs": [],
   "source": []
  }
 ],
 "metadata": {
  "colab": {
   "collapsed_sections": [],
   "name": "Astar_Search.ipynb",
   "provenance": []
  },
  "kernelspec": {
   "display_name": "Python 3",
   "language": "python",
   "name": "python3"
  },
  "language_info": {
   "codemirror_mode": {
    "name": "ipython",
    "version": 3
   },
   "file_extension": ".py",
   "mimetype": "text/x-python",
   "name": "python",
   "nbconvert_exporter": "python",
   "pygments_lexer": "ipython3",
   "version": "3.8.3"
  }
 },
 "nbformat": 4,
 "nbformat_minor": 1
}
