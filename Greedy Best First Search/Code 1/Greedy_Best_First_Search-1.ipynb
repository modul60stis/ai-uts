{
 "cells": [
  {
   "cell_type": "code",
   "execution_count": 1,
   "metadata": {},
   "outputs": [],
   "source": [
    "class Node:\n",
    "    def __init__(self, name, heuristic=0, is_goal=False):\n",
    "        self.name = name\n",
    "        self.children = {}  # this will be a list of nodes with their corresponding distance\n",
    "        self.heuristic = heuristic  # this will be used in greedy best first\n",
    "        self.visited = False\n",
    "        self.parent = None  # this will be used to find the path\n",
    "        self.costFromOrigin = 0"
   ]
  },
  {
   "cell_type": "code",
   "execution_count": 2,
   "metadata": {},
   "outputs": [
    {
     "name": "stdout",
     "output_type": "stream",
     "text": [
      "\n"
     ]
    }
   ],
   "source": [
    "class RoutingBetweenCities:\n",
    "    def __init__(self):\n",
    "        # holds each city with it's neighbours and their distance\n",
    "        self.initialStateAdjacencyList = {\"Padangsidempuan\": {\"Sibolga\": 86, \"Gn.Tua\":59, \"Sipirok\": 37},\n",
    "                                          \"Sibolga\": {\"Tarutung\": 66, \"Padangsidempuan\": 86},\n",
    "                                          \"Gn.Tua\": {\"Kota Pinang\": 89, \"Padangsidempuan\": 59, \"Sipirok\": 66},\n",
    "                                          \"Sipirok\": {\"Tarutung\": 74, \"Padangsidempuan\": 37},\n",
    "                                          \"Tarutung\": {\"Siborong-borong\": 25, \"Sibolga\": 66, \"Sipirok\": 74},\n",
    "                                          \"Kota Pinang\": {\"Rantau Prapat\": 55, \"Gn.Tua\": 89},\n",
    "                                          \"Siborong-borong\": {\"Balige\": 23 , \"Tarutung\": 25},\n",
    "                                          \"Rantau Prapat\": {\"Kisaran\": 132, \"Kota Pinang\": 55},\n",
    "                                          \"Balige\": {\"Parapat\": 60, \"Siborong-borong\": 23},\n",
    "                                          \"Kisaran\": {\"Lima Puluh\": 39, \"Rantau Prapat\": 132},\n",
    "                                          \"Parapat\": {\"P.Siantar\": 48, \"Balige\": 60},\n",
    "                                          \"Lima Puluh\": {\"Tebing Tinggi\": 44, \"P.Siantar\": 52, \"Kisaran\": 39},\n",
    "                                          \"P.Siantar\": {\"Tebing Tinggi\": 63, \"Lima Puluh\": 52, \"Parapat\": 48},\n",
    "                                          \"Tebing Tinggi\": {\"Lubuk Pakam\": 50, \"Lima Puluh\": 44, \"P.Siantar\": 63},\n",
    "                                          \"Lubuk Pakam\": {\"Medan\": 30, \"Tebing Tinggi\": 50},\n",
    "                                          \"Medan\": {\"Binjai\": 22, \"Lubuk Pakam\": 30},\n",
    "                                          \"Binjai\": {\"Medan\": 22}}\n",
    "\n",
    "        # heuristic distance of each city to goal(Medan)\n",
    "        self.initialStateHeuristics = {\"Padangsidempuan\": 367, \"Sibolga\": 325, \"Gn.Tua\": 435, \"Sipirok\": 327, \n",
    "                                       \"Tarutung\": 253, \"Kota Pinang\": 336, \"Siborong-borong\": 244, \n",
    "                                       \"Rantau Prapat\": 283, \"Balige\": 212, \"Kisaran\": 165, \"Parapat\": 242, \n",
    "                                       \"Lima Puluh\": 127, \"P.Siantar\": 132, \"Tebing Tinggi\": 80, \"Lubuk Pakam\": 36, \n",
    "                                       \"Medan\": 0, \"Binjai\": 21}\n",
    "\n",
    "    def get_initial_graph(self):\n",
    "        # creating a dictionary based on city names\n",
    "        # each entry of this dict holds a node that's created with this name [i've use it kinda like hashMap in java]\n",
    "        graph_details_dictionary = {}\n",
    "        # creating graph nodes with their names and heuristic values\n",
    "        for x in self.initialStateAdjacencyList:\n",
    "            current_node = Node(name=x, heuristic=self.initialStateHeuristics[x])\n",
    "            graph_details_dictionary.update({x: current_node})\n",
    "\n",
    "        # fill children field of each node and assign pointers to it's children with it's corresponding cost\n",
    "        # children field is a dictionary consist of children nodes and their cost\n",
    "        # in this form -> a.children = {\"city a\" : 200 , \"city b\" : 400}\n",
    "        for x in graph_details_dictionary:\n",
    "            for y in self.initialStateAdjacencyList[x]:\n",
    "                graph_details_dictionary[x].children.update(\n",
    "                    {graph_details_dictionary[y]: self.initialStateAdjacencyList[x][y]})  # update children dictionary\n",
    "                # like the form specified above :{\"child city x\" :200}\n",
    "\n",
    "        return graph_details_dictionary\n",
    "\n",
    "\n",
    "if __name__ == '__main__':\n",
    "    routingBetweenCities = RoutingBetweenCities()\n",
    "    a = routingBetweenCities.get_initial_graph()\n",
    "    print()\n"
   ]
  },
  {
   "cell_type": "code",
   "execution_count": 3,
   "metadata": {},
   "outputs": [],
   "source": [
    "def path_to_destination(destination_node):\n",
    "    # Iterative Implementation ------------>\n",
    "    if destination_node.parent is None:  # it may happen in LDFS with not sufficient depth\n",
    "        print(\"There's no path with the given situation to destination\")\n",
    "        return\n",
    "    node = destination_node\n",
    "    path_to_dest = []\n",
    "    while node is not None:\n",
    "        path_to_dest.append(node)\n",
    "        node = node.parent\n",
    "    path_to_dest.reverse()\n",
    "    for x in path_to_dest:\n",
    "        print(x.name, \"=>\", end=\" \")\n",
    "    print()\n",
    "    return path_to_dest"
   ]
  },
  {
   "cell_type": "markdown",
   "metadata": {},
   "source": [
    "### Greedy Best First Search"
   ]
  },
  {
   "cell_type": "code",
   "execution_count": 4,
   "metadata": {},
   "outputs": [],
   "source": [
    "import queue as queue\n",
    "\n",
    "def greedy_best_first_search(start_node, dest_node):\n",
    "    expanded_nodes = []  # to compare it with other algorithms\n",
    "    visited_nodes_queue = queue.PriorityQueue()  # to sort them base on their heuristic\n",
    "    maximum_memory_usage = 0  # to compare it with other algorithms\n",
    "    expanded_nodes.append(start_node)\n",
    "    start_node.visited = True\n",
    "    current_node = start_node\n",
    "    while True:\n",
    "        # check if we reach to dest or not\n",
    "        if dest_node.visited:\n",
    "            break\n",
    "        for x in current_node.children:\n",
    "            if not x.visited:\n",
    "                x.visited = True\n",
    "                x.parent = current_node\n",
    "                # x's cost from origin = parent's costFromOrigin from origin + distance between'em\n",
    "                x.costFromOrigin = current_node.costFromOrigin + current_node.children[x]\n",
    "                visited_nodes_queue.put((x.heuristic, x))\n",
    "        maximum_memory_usage = max(maximum_memory_usage, visited_nodes_queue.qsize())\n",
    "        current_node = visited_nodes_queue.get(0)[1]\n",
    "        expanded_nodes.append(current_node)\n",
    "    return expanded_nodes.__len__(), visited_nodes_queue.qsize(), maximum_memory_usage"
   ]
  },
  {
   "cell_type": "code",
   "execution_count": 5,
   "metadata": {},
   "outputs": [
    {
     "name": "stdout",
     "output_type": "stream",
     "text": [
      "traversal of graph is : \n",
      "Padangsidempuan => Sibolga => Tarutung => Siborong-borong => Balige => Parapat => P.Siantar => Tebing Tinggi => Lubuk Pakam => Medan => \n",
      "observed nodes :  13\n",
      "expanded nodes :  10\n",
      "maximum memory usage based on nodes :  4\n",
      "path cost :  451\n"
     ]
    }
   ],
   "source": [
    "def main():\n",
    "    problem = RoutingBetweenCities()\n",
    "    graph_city_details_dictionary = problem.get_initial_graph()\n",
    "    # start_node = graph_city_details_dictionary[\"Padangsidempuan\"]\n",
    "    dest_node = graph_city_details_dictionary[\"Medan\"]\n",
    "    # expanded_nodes = 0\n",
    "    # visited_nodes = 0\n",
    "    # max_memory_usage = 0\n",
    "    # define mode to perform algorithm\n",
    "    mode = \"Graph\"\n",
    "    algorithm = \"GREEDY BEST FIRST SEARCH\"\n",
    "    expanded_nodes, visited_nodes, max_memory_usage = algorithms_switcher(graph_mode_or_tree_mode=mode,\n",
    "                                                                          algorithm=algorithm\n",
    "                                                                          ,\n",
    "                                                                          graph_city_details_dictionary=\n",
    "                                                                          graph_city_details_dictionary\n",
    "                                                                          )\n",
    "\n",
    "    # trace back path from destination\n",
    "    path_to_dest = path_to_destination(destination_node=dest_node)\n",
    "\n",
    "    if dest_node.costFromOrigin != 0:\n",
    "        cost = dest_node.costFromOrigin  # for cost based algorithms :a*,uniform cost ,...\n",
    "    else:\n",
    "        cost = path_to_dest.__len__() - 1  # for non cost based algorithm :dfs,bfs\n",
    "    print(\"observed nodes : \", visited_nodes)\n",
    "    print(\"expanded nodes : \", expanded_nodes)\n",
    "    print(\"maximum memory usage based on nodes : \", max_memory_usage)\n",
    "    print(\"path cost : \", cost)\n",
    "\n",
    "\n",
    "def algorithms_switcher(graph_mode_or_tree_mode, algorithm, graph_city_details_dictionary):\n",
    "    start_node = graph_city_details_dictionary[\"Padangsidempuan\"]\n",
    "    dest_node = graph_city_details_dictionary[\"Medan\"]\n",
    "    expanded_nodes = 0\n",
    "    visited_nodes = 0\n",
    "    max_memory_usage = 0\n",
    "    if graph_mode_or_tree_mode == \"Graph\":\n",
    "        # Graph\n",
    "        print(\"traversal of graph is : \")\n",
    "        if algorithm == \"GREEDY BEST FIRST SEARCH\":\n",
    "            expanded_nodes, unexpanded_nodes, max_memory_usage = greedy_best_first_search(start_node=start_node,\n",
    "                                                                                          dest_node=dest_node)\n",
    "            visited_nodes = expanded_nodes + unexpanded_nodes\n",
    "\n",
    "    return expanded_nodes, visited_nodes, max_memory_usage\n",
    "\n",
    "\n",
    "if __name__ == '__main__':\n",
    "    main()"
   ]
  }
 ],
 "metadata": {
  "kernelspec": {
   "display_name": "Python 3",
   "language": "python",
   "name": "python3"
  },
  "language_info": {
   "codemirror_mode": {
    "name": "ipython",
    "version": 3
   },
   "file_extension": ".py",
   "mimetype": "text/x-python",
   "name": "python",
   "nbconvert_exporter": "python",
   "pygments_lexer": "ipython3",
   "version": "3.8.3"
  }
 },
 "nbformat": 4,
 "nbformat_minor": 4
}
