{
 "cells": [
  {
   "cell_type": "markdown",
   "metadata": {
    "id": "TI6QL5d7JVPT"
   },
   "source": [
    "## 8-puzzle menggunakan Greedy Best First Search"
   ]
  },
  {
   "cell_type": "code",
   "execution_count": 82,
   "metadata": {
    "id": "TKaANgel6AsB"
   },
   "outputs": [],
   "source": [
    "import copy\n",
    "import time"
   ]
  },
  {
   "cell_type": "code",
   "execution_count": 111,
   "metadata": {
    "id": "44gTj-WwliZa"
   },
   "outputs": [],
   "source": [
    "# menentukan initial state dan goal state\n",
    "startNode = [1,4,2, \n",
    "             3,7,5, \n",
    "             6,0,8]\n",
    "finalNode = [0,1,2, \n",
    "             3,4,5, \n",
    "             6,7,8]"
   ]
  },
  {
   "cell_type": "markdown",
   "metadata": {
    "id": "oOAg-viPz9fP"
   },
   "source": [
    "Berikut ini adalah memeriksa apakah initial state memiliki solusi berupa goal state atau tidak. Pengujian ini akan menggunakan permutasi paritas"
   ]
  },
  {
   "cell_type": "code",
   "execution_count": 113,
   "metadata": {
    "colab": {
     "base_uri": "https://localhost:8080/"
    },
    "id": "8LrtYdWq0J1X",
    "outputId": "e12f57c8-6fcd-4434-9eae-f22306a60400"
   },
   "outputs": [
    {
     "data": {
      "text/plain": [
       "True"
      ]
     },
     "execution_count": 113,
     "metadata": {
      "tags": []
     },
     "output_type": "execute_result"
    }
   ],
   "source": [
    "def hasSolution(init, goal):\n",
    "  total_init = 0\n",
    "  total_goal = 0\n",
    "  for i in range(8):\n",
    "    for j in range(i+1, 9):\n",
    "\n",
    "      if init[i] > 0 and init[j] > 0 :\n",
    "        if init[i] > init[j]: total_init += 1\n",
    "\n",
    "      if goal[i] > 0 and goal[j] > 0 :\n",
    "        if goal[i] > goal[j]: total_goal += 1\n",
    "\n",
    "  if total_init%2 == total_goal%2: return True\n",
    "  else: return False\n",
    "\n",
    "hasSolution(startNode, finalNode)"
   ]
  },
  {
   "cell_type": "markdown",
   "metadata": {
    "id": "yOmZWj2_52j1"
   },
   "source": [
    "Berikut adalah eksekusi algoritmanya"
   ]
  },
  {
   "cell_type": "code",
   "execution_count": 114,
   "metadata": {
    "colab": {
     "base_uri": "https://localhost:8080/"
    },
    "id": "UaH42CdC6I4G",
    "outputId": "fb6843b1-0cb4-491c-9f6a-599820509e23"
   },
   "outputs": [
    {
     "name": "stdout",
     "output_type": "stream",
     "text": [
      "1 4 2\n",
      "3 7 5\n",
      "6 0 8\n",
      "Node: 0\n",
      "Depth: 0\n",
      "Moves: []\n",
      "------\n",
      "1 4 2\n",
      "3 0 5\n",
      "6 7 8\n",
      "Node: 1\n",
      "Depth: 1\n",
      "Moves: ['up']\n",
      "------\n",
      "1 4 2\n",
      "3 7 5\n",
      "0 6 8\n",
      "Node: 2\n",
      "Depth: 1\n",
      "Moves: ['left']\n",
      "------\n",
      "1 4 2\n",
      "3 7 5\n",
      "6 8 0\n",
      "Node: 3\n",
      "Depth: 1\n",
      "Moves: ['right']\n",
      "------\n",
      "1 0 2\n",
      "3 4 5\n",
      "6 7 8\n",
      "Node: 4\n",
      "Depth: 2\n",
      "Moves: ['up', 'up']\n",
      "------\n",
      "1 4 2\n",
      "0 3 5\n",
      "6 7 8\n",
      "Node: 5\n",
      "Depth: 2\n",
      "Moves: ['up', 'left']\n",
      "------\n",
      "1 4 2\n",
      "3 5 0\n",
      "6 7 8\n",
      "Node: 6\n",
      "Depth: 2\n",
      "Moves: ['up', 'right']\n",
      "------\n",
      "0 1 2\n",
      "3 4 5\n",
      "6 7 8\n",
      "Node: 7\n",
      "Depth: 3\n",
      "Moves: ['up', 'up', 'left']\n",
      "------\n",
      "Time: 0.0031905174255371094\n",
      "------\n"
     ]
    }
   ],
   "source": [
    "# Mencetak node dan status node\n",
    "def printNode(node):\n",
    "    print(node[0],node[1],node[2])\n",
    "    print(node[3],node[4],node[5])\n",
    "    print(node[6],node[7],node[8])\n",
    "    global nodeNumber\n",
    "    print('Node:', nodeNumber)\n",
    "    print('Depth:', len(node[9:]))\n",
    "    print('Moves:', node[9:])\n",
    "    print('------')\n",
    "    nodeNumber += 1\n",
    "\n",
    "# Cek kesesuaian state dengan goal state\n",
    "def checkFinal(node):\n",
    "    if node[:9]==finalNode:\n",
    "        printNode(node)\n",
    "        return True\n",
    "    if node[:9] not in visitedList:\n",
    "        printNode(node)\n",
    "        nodeList.append(node)\n",
    "        visitedList.append(node[:9])\n",
    "    return False\n",
    "\n",
    "# menghitung h(n) tergadap goal state\n",
    "def calculateHeuristic(curr, goal):\n",
    "    distance = 0\n",
    "    indeks = 0\n",
    "    for current in curr:\n",
    "        target = goal.index(current)\n",
    "        currentRow = int(indeks/3)\n",
    "        currentColumn = indeks%3\n",
    "        targetRow = int(target/3)\n",
    "        targetColumn = target%3\n",
    "        distance += abs(currentRow-targetRow) + abs(currentColumn-targetColumn)\n",
    "        indeks += 1\n",
    "    return distance\n",
    "\n",
    "if __name__ == '__main__':\n",
    "  # deklarasi variabel yang dibutuhkan  \n",
    "    found = False\n",
    "    nodeNumber = 0\n",
    "    visitedList = []\n",
    "    nodeList = []\n",
    "    nodeList.append(startNode)\n",
    "    visitedList.append(startNode)\n",
    "    printNode(startNode)\n",
    "    t0 = time.time()\n",
    "\n",
    "    while (not found and not len(nodeList)==0):\n",
    "      # Memilih node yang path cost-nya paling kecil\n",
    "        fList = []\n",
    "        for node in nodeList:\n",
    "            h = calculateHeuristic(node[:9], finalNode)\n",
    "            f = h\n",
    "            fList.append(f)\n",
    "        currentNode = nodeList.pop(fList.index(min(fList)))\n",
    "\n",
    "        # ekspansi dan menambahkan node ke dalam Queue, serta memeriksa kesesuaiannya\n",
    "        # dengan goal state\n",
    "\n",
    "        #Ekspansi ke atas\n",
    "        blankIndex = currentNode.index(0)\n",
    "        if blankIndex!=0 and blankIndex!=1 and blankIndex!=2:\n",
    "            upNode = copy.deepcopy(currentNode)\n",
    "            upNode[blankIndex] = upNode[blankIndex-3]\n",
    "            upNode[blankIndex-3] = 0\n",
    "            upNode.append('up')\n",
    "            found = checkFinal(upNode)\n",
    "\n",
    "        #Ekspansi ke kiri\n",
    "        if blankIndex!=0 and blankIndex!=3 and blankIndex!=6 and found==False:\n",
    "            leftNode = copy.deepcopy(currentNode)\n",
    "            leftNode[blankIndex] = leftNode[blankIndex-1]\n",
    "            leftNode[blankIndex-1] = 0\n",
    "            leftNode.append('left')\n",
    "            found = checkFinal(leftNode)\n",
    "\n",
    "        #Ekspansi ke bawah\n",
    "        if blankIndex!=6 and blankIndex!=7 and blankIndex!=8 and found==False:\n",
    "            downNode = copy.deepcopy(currentNode)\n",
    "            downNode[blankIndex] = downNode[blankIndex+3]\n",
    "            downNode[blankIndex+3] = 0\n",
    "            downNode.append('down')\n",
    "            found = checkFinal(downNode)\n",
    "\n",
    "        #Ekspansi ke kanan\n",
    "        if blankIndex!=2 and blankIndex!=5 and blankIndex!=8 and found==False:\n",
    "            rightNode = copy.deepcopy(currentNode)\n",
    "            rightNode[blankIndex] = rightNode[blankIndex+1]\n",
    "            rightNode[blankIndex+1] = 0\n",
    "            rightNode.append('right')\n",
    "            found = checkFinal(rightNode)\n",
    "\n",
    "    # Pencatatan waktu selesai\n",
    "    t1 = time.time()\n",
    "    print('Time:', t1-t0)\n",
    "    print('------')"
   ]
  }
 ],
 "metadata": {
  "colab": {
   "collapsed_sections": [],
   "name": "coba.ipynb",
   "provenance": []
  },
  "kernelspec": {
   "display_name": "Python 3",
   "language": "python",
   "name": "python3"
  },
  "language_info": {
   "codemirror_mode": {
    "name": "ipython",
    "version": 3
   },
   "file_extension": ".py",
   "mimetype": "text/x-python",
   "name": "python",
   "nbconvert_exporter": "python",
   "pygments_lexer": "ipython3",
   "version": "3.8.3"
  }
 },
 "nbformat": 4,
 "nbformat_minor": 1
}
