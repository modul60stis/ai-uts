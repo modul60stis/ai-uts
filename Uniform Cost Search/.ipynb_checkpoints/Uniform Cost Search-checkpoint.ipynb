{
 "cells": [
  {
   "cell_type": "markdown",
   "metadata": {},
   "source": [
    "## Uniform Cost Search"
   ]
  },
  {
   "cell_type": "markdown",
   "metadata": {},
   "source": [
    "Uniform Cost Search adalah algoritma yang melakukan searching berdasarkan informasi cost aktual (yang sebenarnya). Next-state dipilih berdasarkan actual-cost terkecil atau terbesar (tergantung permasalahan). Pada akhirnya UCS akan menyisir semua nodes yang ada di dalam tree."
   ]
  },
  {
   "cell_type": "markdown",
   "metadata": {},
   "source": [
    "# Code pertama"
   ]
  },
  {
   "cell_type": "markdown",
   "metadata": {},
   "source": [
    "## Membuat Graf"
   ]
  },
  {
   "cell_type": "code",
   "execution_count": 1,
   "metadata": {},
   "outputs": [],
   "source": [
    "class Graph:\n",
    "\n",
    "    def __init__(self, dict=None, directed=True):\n",
    "        self.dict = dict or {}\n",
    "        self.directed = directed\n",
    "        if not directed:\n",
    "            self.make_undirected()\n",
    "\n",
    "    def make_undirected(self):\n",
    "        \"\"\"Make a digraph into an undirected graph by adding symmetric edges.\"\"\"\n",
    "        for a in list(self.dict.keys()):\n",
    "            for (b, dist) in self.dict[a].items():\n",
    "                self.connect1(b, a, dist)\n",
    "\n",
    "    def connect(self, A, B, distance=1):\n",
    "        \"\"\"Add a link from A and B of given distance, and also add the inverse\n",
    "        link if the graph is undirected.\"\"\"\n",
    "        self.connect1(A, B, distance)\n",
    "        if not self.directed:\n",
    "            self.connect1(B, A, distance)\n",
    "\n",
    "    def connect1(self, A, B, distance):\n",
    "        \"\"\"Add a link from A to B of given distance, in one direction only.\"\"\"\n",
    "        self.dict.setdefault(A, {})[B] = distance\n",
    "\n",
    "    def get(self, a, b=None):\n",
    "        \"\"\"Return a link distance or a dict of {node: distance} entries.\n",
    "        .get(a,b) returns the distance or None;\n",
    "        .get(a) returns a dict of {node: distance} entries, possibly {}.\"\"\"\n",
    "        links = self.dict.setdefault(a, {})\n",
    "        if b is None:\n",
    "            return links\n",
    "        else:\n",
    "            return links.get(b)\n",
    "\n",
    "    def nodes(self):\n",
    "        \"\"\"Return a list of nodes in the graph.\"\"\"\n",
    "        return list(self.dict.keys())\n",
    "\n",
    "\n",
    "def UndirectedGraph(dict=None):\n",
    "    \"\"\"Build a Graph where every edge (including future ones) goes both ways.\"\"\"\n",
    "    return Graph(dict=dict, directed=False)"
   ]
  },
  {
   "cell_type": "markdown",
   "metadata": {},
   "source": [
    "### Membuat jarak antar kota dengan kota yang berdekatan"
   ]
  },
  {
   "cell_type": "markdown",
   "metadata": {},
   "source": [
    "Mendefinisikan jarak antar kota satu dengan kota berdekatan lainnya beserta koordinat lokasi pada 17 kota di Jerman."
   ]
  },
  {
   "cell_type": "code",
   "execution_count": 2,
   "metadata": {},
   "outputs": [],
   "source": [
    "# membuat jarak antar kota dengan kota lainnya\n",
    "germany_map = UndirectedGraph(dict(\n",
    "    Luebeck=dict(Hamburg=63),\n",
    "    Hamburg=dict(Bremen=116, Hannover=153, Berlin=291),\n",
    "    Bremen=dict(Hannover=132, Dortmund=234),\n",
    "    Hannover=dict(Magdeburg=148,Kassel=165),\n",
    "    Magdeburg=dict(Berlin=166),\n",
    "    Berlin=dict(Dresden=204),\n",
    "    Dresden=dict(Leipzig=119),\n",
    "    Leipzig=dict(Magdeburg=125,Nuremberg=263),\n",
    "    Dortmund=dict(Duesseldorf=69,Saarbruecken=350),\n",
    "    Kassel=dict(Frankfurt=185),\n",
    "    Frankfurt=dict(Dortmund=221,Nuremberg=222),\n",
    "    Saarbruecken=dict(Frankfurt=177,Karlsruhe=143),\n",
    "    Karlsruhe=dict(Stuttgart=71),\n",
    "    Stuttgart=dict(Frankfurt=200,Munich=215,Nuremberg=207),\n",
    "    Nuremberg=dict(Munich=171)))\n",
    "\n",
    "# membuat koordinat lokasi tiap kota\n",
    "germany_map.locations = dict(\n",
    "    Luebeck=(500,400),\n",
    "    Hamburg=(455.04, 385.09),\n",
    "    Bremen=(365.23,352.86),\n",
    "    Dortmund=(335.12, 248.26),\n",
    "    Duesseldorf=(287.97,237.4),\n",
    "    Saarbruecken=(279.16,119.06),\n",
    "    Frankfurt=(425.5,167.76),\n",
    "    Hannover=(449.45,314.78),\n",
    "    Kassel=(475.97,231.43),\n",
    "    Karlsruhe=(384.57,97.76),\n",
    "    Stuttgart=(457.86,91.35),\n",
    "    Munich=(582.32,88.47),\n",
    "    Nuremberg=(565.09,154.85),\n",
    "    Leipzig=(580.24,246.76),\n",
    "    Magdeburg=(558.16,296.43),\n",
    "    Dresden=(666.97,242.81),\n",
    "    Berlin=(639.37,346.89))"
   ]
  },
  {
   "cell_type": "markdown",
   "metadata": {},
   "source": [
    "### Mendefinisikan Problem"
   ]
  },
  {
   "cell_type": "markdown",
   "metadata": {},
   "source": [
    "Problem : mencari rute terpendek dari kota Luebeck ke kota Munich. Berikut fungsi mendefinisikan problem dan graf nya :"
   ]
  },
  {
   "cell_type": "code",
   "execution_count": 3,
   "metadata": {},
   "outputs": [],
   "source": [
    "class Problem(object):\n",
    "\n",
    "    def __init__(self, initial, goal=None):\n",
    "        self.initial = initial\n",
    "        self.goal = goal\n",
    "\n",
    "    def actions(self, state):\n",
    "        raise NotImplementedError\n",
    "\n",
    "    def result(self, state, action):\n",
    "        raise NotImplementedError\n",
    "\n",
    "    def goal_test(self, state):\n",
    "        if isinstance(self.goal, list):\n",
    "            return is_in(state, self.goal)\n",
    "        else:\n",
    "            return state == self.goal\n",
    "\n",
    "    def path_cost(self, c, state1, action, state2):\n",
    "        return c + 1\n",
    "\n",
    "    def value(self, state):\n",
    "        raise NotImplementedError"
   ]
  },
  {
   "cell_type": "code",
   "execution_count": 4,
   "metadata": {},
   "outputs": [],
   "source": [
    "class GraphProblem(Problem):\n",
    "\n",
    "    def __init__(self, initial, goal, graph):\n",
    "        Problem.__init__(self, initial, goal)\n",
    "        self.graph = graph\n",
    "\n",
    "    def actions(self, A):\n",
    "        \"\"\"The actions at a graph node are just its neighbors.\"\"\"\n",
    "        return list(self.graph.get(A).keys())\n",
    "\n",
    "    def result(self, state, action):\n",
    "        \"\"\"The result of going to a neighbor is just that neighbor.\"\"\"\n",
    "        return action\n",
    "\n",
    "    def path_cost(self, cost_so_far, A, action, B):\n",
    "        return cost_so_far + (self.graph.get(A, B) or infinity)\n",
    "\n",
    "    def find_min_edge(self):\n",
    "        \"\"\"Find minimum value of edges.\"\"\"\n",
    "        m = infinity\n",
    "        for d in self.graph.dict.values():\n",
    "            local_min = min(d.values())\n",
    "            m = min(m, local_min)\n",
    "\n",
    "        return m\n",
    "\n",
    "    def h(self, node):\n",
    "        \"\"\"h function is straight-line distance from a node's state to goal.\"\"\"\n",
    "        locs = getattr(self.graph, 'locations', None)\n",
    "        if locs:\n",
    "            if type(node) is str:\n",
    "                return int(distance(locs[node], locs[self.goal]))\n",
    "\n",
    "            return int(distance(locs[node.state], locs[self.goal]))\n",
    "        else:\n",
    "            return infinity"
   ]
  },
  {
   "cell_type": "markdown",
   "metadata": {},
   "source": [
    "Dengan fungsi tersebut, definisikan germany problem beserta koordinatnya :"
   ]
  },
  {
   "cell_type": "code",
   "execution_count": 5,
   "metadata": {},
   "outputs": [],
   "source": [
    "germany_problem = GraphProblem('Luebeck', 'Munich', germany_map)"
   ]
  },
  {
   "cell_type": "code",
   "execution_count": 6,
   "metadata": {},
   "outputs": [
    {
     "name": "stdout",
     "output_type": "stream",
     "text": [
      "{'Luebeck': (500, 400), 'Hamburg': (455.04, 385.09), 'Bremen': (365.23, 352.86), 'Dortmund': (335.12, 248.26), 'Duesseldorf': (287.97, 237.4), 'Saarbruecken': (279.16, 119.06), 'Frankfurt': (425.5, 167.76), 'Hannover': (449.45, 314.78), 'Kassel': (475.97, 231.43), 'Karlsruhe': (384.57, 97.76), 'Stuttgart': (457.86, 91.35), 'Munich': (582.32, 88.47), 'Nuremberg': (565.09, 154.85), 'Leipzig': (580.24, 246.76), 'Magdeburg': (558.16, 296.43), 'Dresden': (666.97, 242.81), 'Berlin': (639.37, 346.89)}\n"
     ]
    }
   ],
   "source": [
    "germany_locations = germany_map.locations\n",
    "print(germany_locations)"
   ]
  },
  {
   "cell_type": "markdown",
   "metadata": {},
   "source": [
    "### Visualisasi graf Jerman"
   ]
  },
  {
   "cell_type": "markdown",
   "metadata": {},
   "source": [
    "Selanjutnya, melihat bagaimana frontier (m) meluas di setiap algoritme penelusuran untuk masalah sederhana bernama `germany_problem`. Mengimport modul yang dibutuhkan terlebih dahulu."
   ]
  },
  {
   "cell_type": "code",
   "execution_count": 7,
   "metadata": {},
   "outputs": [],
   "source": [
    "%matplotlib inline\n",
    "import networkx as nx\n",
    "import matplotlib.pyplot as plt\n",
    "from matplotlib import lines\n",
    "\n",
    "from ipywidgets import interact\n",
    "import ipywidgets as widgets\n",
    "from IPython.display import display\n",
    "import time"
   ]
  },
  {
   "cell_type": "markdown",
   "metadata": {},
   "source": [
    "Dimulai dengan graf kosong, lalu tambahkan nodes (simpul pada graf). Tempatkan nodes tersebut sesuai posisi lokasi pada peta kota Jerman, kemudian tambahkan edge (garis pada graf)."
   ]
  },
  {
   "cell_type": "code",
   "execution_count": 8,
   "metadata": {},
   "outputs": [],
   "source": [
    "# initialise a graph\n",
    "G = nx.Graph()\n",
    "\n",
    "# use this while labeling nodes in the map\n",
    "node_labels = dict()\n",
    "# use this to modify colors of nodes while exploring the graph.\n",
    "# This is the only dict we send to `show_map(node_colors)` while drawing the map\n",
    "node_colors = dict()\n",
    "\n",
    "for n, p in germany_locations.items():\n",
    "    # add nodes from germany_locations\n",
    "    G.add_node(n)\n",
    "    # add nodes to node_labels\n",
    "    node_labels[n] = n\n",
    "    # node_colors to color nodes while exploring germany map\n",
    "    node_colors[n] = \"black\"\n",
    "\n",
    "# we'll save the initial node colors to a dict to use later\n",
    "initial_node_colors = dict(node_colors)\n",
    "    \n",
    "# positions for node labels\n",
    "node_label_pos = { k:[v[0],v[1]-10]  for k,v in germany_locations.items() }\n",
    "\n",
    "# use this while labeling edges\n",
    "edge_labels = dict()\n",
    "\n",
    "# add edges between cities in germany map - UndirectedGraph defined in search.py\n",
    "for node in germany_map.nodes():\n",
    "    connections = germany_map.get(node)\n",
    "    for connection in connections.keys():\n",
    "        distance = connections[connection]\n",
    "\n",
    "        # add edges to the graph\n",
    "        G.add_edge(node, connection)\n",
    "        # add distances to edge_labels\n",
    "        edge_labels[(node, connection)] = distance"
   ]
  },
  {
   "cell_type": "markdown",
   "metadata": {},
   "source": [
    "Kita telah menyelesaikan pembuatan graf yang sesuai dengan peta di kota jerman. Fungsi yang digunakan adalah `show_map( )` dengan argumen node colors. Kemudian panggil fungsi ini untuk menampilkan peta pada setiap langkah interval saat proses searching, menggunakan algoritma UCS."
   ]
  },
  {
   "cell_type": "code",
   "execution_count": 9,
   "metadata": {},
   "outputs": [],
   "source": [
    "def show_map(node_colors):\n",
    "    # set the size of the plot\n",
    "    plt.figure(figsize=(18,13))\n",
    "    # draw the graph (both nodes and edges) with locations from germany_locations\n",
    "    nx.draw(G, pos = germany_locations, node_color = [node_colors[node] for node in G.nodes()])\n",
    "\n",
    "    # draw labels for nodes\n",
    "    node_label_handles = nx.draw_networkx_labels(G, pos = node_label_pos, labels = node_labels, font_size = 14)\n",
    "    # add a white bounding box behind the node labels\n",
    "    [label.set_bbox(dict(facecolor='white', edgecolor='none')) for label in node_label_handles.values()]\n",
    "\n",
    "    # add edge lables to the graph\n",
    "    nx.draw_networkx_edge_labels(G, pos = germany_locations, edge_labels=edge_labels, font_size = 14)\n",
    "    \n",
    "    # add a legend\n",
    "    black_circle = lines.Line2D([], [], color=\"black\", marker='o', markersize=15, markerfacecolor=\"black\")\n",
    "    orange_circle = lines.Line2D([], [], color=\"orange\", marker='o', markersize=15, markerfacecolor=\"orange\")\n",
    "    red_circle = lines.Line2D([], [], color=\"red\", marker='o', markersize=15, markerfacecolor=\"red\")\n",
    "    blue_circle = lines.Line2D([], [], color=\"blue\", marker='o', markersize=15, markerfacecolor=\"blue\")\n",
    "    green_circle = lines.Line2D([], [], color=\"green\", marker='o', markersize=15, markerfacecolor=\"green\")\n",
    "    plt.legend((black_circle, orange_circle, red_circle, blue_circle, green_circle),\n",
    "               ('Node yang belum dikunjungi', 'Node selanjutnya yang mungkin', 'Node yang sedang dikunjungi', 'Node yang sudah dikunjungi', 'Hasil'),\n",
    "               numpoints=1,prop={'size':16}, loc=(1.0,.75))\n",
    "    \n",
    "    # show the plot. No need to use in notebooks. nx.draw will show the graph itself.\n",
    "    plt.show()"
   ]
  },
  {
   "cell_type": "markdown",
   "metadata": {},
   "source": [
    "Setelah itu, kita dapat menampilkan objek (berupa graf) yang dibuat dengan memanggil fungsi `show_map( )`. Argumen dalam `show_map( )` merupakan sebuah variabel dictionary dengan key dan value berupa warna."
   ]
  },
  {
   "cell_type": "code",
   "execution_count": 10,
   "metadata": {},
   "outputs": [
    {
     "data": {
      "image/png": "[encoded data removed]",
      "text/plain": [
       "<Figure size 1296x936 with 1 Axes>"
      ]
     },
     "metadata": {},
     "output_type": "display_data"
    }
   ],
   "source": [
    "show_map(node_colors)"
   ]
  },
  {
   "cell_type": "markdown",
   "metadata": {},
   "source": [
    "### Visualisasi interaktif"
   ]
  },
  {
   "cell_type": "markdown",
   "metadata": {},
   "source": [
    "Pada tahap ini kita akan melakukan penerapan algoritma pencarian untuk menyelesaikan masalah kita menggunakan algoritma UCS (Uniform Cost Search). Setelah itu kita juga akan melakukan visualisasi bagaimana algoritma tersebut bekerja dalam menyelesaikan masalah kita.\n",
    "\n",
    "Untuk menambahkan estetika pada visualisasi yang kita buat, kita akan menambahkan warna. Berikut ada warna untuk visualisasi dari proses searching uniform cost search beserta keterangannya.\n",
    "\n",
    "- Node yang belum dikunjungi (hitam)\n",
    "- Node selanjutnya yang mungkin (orange)\n",
    "- Node yang Sedang dikunjungi (merah)\n",
    "- Node yang Sudah dikunjungi (biru)\n",
    "- Hasil (hijau)\n",
    "\n",
    "Selanjutnya kita akan menentukan methode bantuan untuk menampilkan tombol dan slider interaktif dalam visualisasi kita."
   ]
  },
  {
   "cell_type": "code",
   "execution_count": 11,
   "metadata": {},
   "outputs": [],
   "source": [
    "def final_path_colors(problem, solution):\n",
    "    \"returns a node_colors dict of the final path provided the problem and solution\"\n",
    "    \n",
    "    # get initial node colors\n",
    "    final_colors = dict(initial_node_colors)\n",
    "    # color all the nodes in solution and starting node to green\n",
    "    final_colors[problem.initial] = \"green\"\n",
    "    for node in solution:\n",
    "        final_colors[node] = \"green\"  \n",
    "    return final_colors\n",
    "\n",
    "\n",
    "def display_visual(user_input, algorithm=None, problem=None):\n",
    "    if user_input == False:\n",
    "        def slider_callback(iteration):\n",
    "            # don't show graph for the first time running the cell calling this function\n",
    "            try:\n",
    "                show_map(all_node_colors[iteration])\n",
    "            except:\n",
    "                pass\n",
    "        def visualize_callback(Visualize):\n",
    "            if Visualize is True:\n",
    "                button.value = False\n",
    "                \n",
    "                global all_node_colors\n",
    "                \n",
    "                iterations, all_node_colors, node = algorithm(problem)\n",
    "                solution = node.solution()\n",
    "                all_node_colors.append(final_path_colors(problem, solution))\n",
    "                \n",
    "                slider.max = len(all_node_colors) - 1\n",
    "                \n",
    "                for i in range(slider.max + 1):\n",
    "                    slider.value = i\n",
    "                     #time.sleep(.5)\n",
    "        \n",
    "        slider = widgets.IntSlider(min=0, max=1, step=1, value=0)\n",
    "        slider_visual = widgets.interactive(slider_callback, iteration = slider)\n",
    "        display(slider_visual)\n",
    "\n",
    "        button = widgets.ToggleButton(value = False)\n",
    "        button_visual = widgets.interactive(visualize_callback, Visualize = button)\n",
    "        display(button_visual)\n",
    "    \n",
    "    if user_input == True:\n",
    "        node_colors = dict(initial_node_colors)\n",
    "        if algorithm == None:\n",
    "            algorithms = {\"Breadth First Tree Search\": breadth_first_tree_search,\n",
    "                          \"Depth First Tree Search\": depth_first_tree_search,\n",
    "                          \"Breadth First Search\": breadth_first_search,\n",
    "                          \"Depth First Graph Search\": depth_first_graph_search,\n",
    "                          \"Uniform Cost Search\": uniform_cost_search,\n",
    "                          \"A-star Search\": astar_search}\n",
    "            algo_dropdown = widgets.Dropdown(description = \"Search algorithm: \",\n",
    "                                             options = sorted(list(algorithms.keys())),\n",
    "                                             value = \"Breadth First Tree Search\")\n",
    "            display(algo_dropdown)\n",
    "        \n",
    "        def slider_callback(iteration):\n",
    "            # don't show graph for the first time running the cell calling this function\n",
    "            try:\n",
    "                show_map(all_node_colors[iteration])\n",
    "            except:\n",
    "                pass\n",
    "            \n",
    "        def visualize_callback(Visualize):\n",
    "            if Visualize is True:\n",
    "                button.value = False\n",
    "                \n",
    "                problem = GraphProblem(start_dropdown.value, end_dropdown.value, romania_map)\n",
    "                global all_node_colors\n",
    "                \n",
    "                if algorithm == None:\n",
    "                    user_algorithm = algorithms[algo_dropdown.value]\n",
    "                \n",
    "#                 print(user_algorithm)\n",
    "#                 print(problem)\n",
    "                \n",
    "                iterations, all_node_colors, node = user_algorithm(problem)\n",
    "                solution = node.solution()\n",
    "                all_node_colors.append(final_path_colors(problem, solution))\n",
    "\n",
    "                slider.max = len(all_node_colors) - 1\n",
    "                \n",
    "                for i in range(slider.max + 1):\n",
    "                    slider.value = i\n",
    "#                     time.sleep(.5)\n",
    "                         \n",
    "        start_dropdown = widgets.Dropdown(description = \"Start city: \",\n",
    "                                          options = sorted(list(node_colors.keys())), value = \"Arad\")\n",
    "        display(start_dropdown)\n",
    "\n",
    "        end_dropdown = widgets.Dropdown(description = \"Goal city: \",\n",
    "                                        options = sorted(list(node_colors.keys())), value = \"Fagaras\")\n",
    "        display(end_dropdown)\n",
    "        \n",
    "        button = widgets.ToggleButton(value = False)\n",
    "        button_visual = widgets.interactive(visualize_callback, Visualize = button)\n",
    "        display(button_visual)\n",
    "        \n",
    "        slider = widgets.IntSlider(min=0, max=1, step=1, value=0)\n",
    "        slider_visual = widgets.interactive(slider_callback, iteration = slider)\n",
    "        display(slider_visual)"
   ]
  },
  {
   "cell_type": "markdown",
   "metadata": {},
   "source": [
    "## Implementasi Uniform Cost Search"
   ]
  },
  {
   "cell_type": "markdown",
   "metadata": {},
   "source": [
    "Import modul dan definisikan fungsi yang dibutuhkan untuk menampilkan visualisasi interaktif pada graf Jerman."
   ]
  },
  {
   "cell_type": "code",
   "execution_count": 12,
   "metadata": {},
   "outputs": [],
   "source": [
    "import bisect\n",
    "def memoize(fn, slot=None, maxsize=32):\n",
    "    \"\"\"Memoize fn: make it remember the computed value for any argument list.\n",
    "    If slot is specified, store result in that slot of first argument.\n",
    "    If slot is false, use lru_cache for caching the values.\"\"\"\n",
    "    if slot:\n",
    "        def memoized_fn(obj, *args):\n",
    "            if hasattr(obj, slot):\n",
    "                return getattr(obj, slot)\n",
    "            else:\n",
    "                val = fn(obj, *args)\n",
    "                setattr(obj, slot, val)\n",
    "                return val\n",
    "    else:\n",
    "        @functools.lru_cache(maxsize=maxsize)\n",
    "        def memoized_fn(*args):\n",
    "            return fn(*args)\n",
    "\n",
    "    return memoized_fn\n",
    "\n",
    "class Node:\n",
    "\n",
    "    def __init__(self, state, parent=None, action=None, path_cost=0):\n",
    "        \"\"\"Create a search tree Node, derived from a parent by an action.\"\"\"\n",
    "        self.state = state\n",
    "        self.parent = parent\n",
    "        self.action = action\n",
    "        self.path_cost = path_cost\n",
    "        self.depth = 0\n",
    "        if parent:\n",
    "            self.depth = parent.depth + 1\n",
    "\n",
    "    def __repr__(self):\n",
    "        return \"<Node {}>\".format(self.state)\n",
    "\n",
    "    def __lt__(self, node):\n",
    "        return self.state < node.state\n",
    "\n",
    "    def expand(self, problem):\n",
    "        \"\"\"List the nodes reachable in one step from this node.\"\"\"\n",
    "        return [self.child_node(problem, action)\n",
    "                for action in problem.actions(self.state)]\n",
    "\n",
    "    def child_node(self, problem, action):\n",
    "        \"\"\"[Figure 3.10]\"\"\"\n",
    "        next = problem.result(self.state, action)\n",
    "        return Node(next, self, action,\n",
    "                    problem.path_cost(self.path_cost, self.state,\n",
    "                                      action, next))\n",
    "\n",
    "    def solution(self):\n",
    "        \"\"\"Return the sequence of actions to go from the root to this node.\"\"\"\n",
    "        return [node.action for node in self.path()[1:]]\n",
    "\n",
    "    def path(self):\n",
    "        \"\"\"Return a list of nodes forming the path from the root to this node.\"\"\"\n",
    "        node, path_back = self, []\n",
    "        while node:\n",
    "            path_back.append(node)\n",
    "            node = node.parent\n",
    "        return list(reversed(path_back))\n",
    "\n",
    "    # We want for a queue of nodes in breadth_first_search or\n",
    "    # astar_search to have no duplicated states, so we treat nodes\n",
    "    # with the same state as equal. [Problem: this may not be what you\n",
    "    # want in other contexts.]\n",
    "\n",
    "    def __eq__(self, other):\n",
    "        return isinstance(other, Node) and self.state == other.state\n",
    "\n",
    "    def __hash__(self):\n",
    "        return hash(self.state)\n",
    "\n",
    "class Queue:\n",
    "\n",
    "    def __init__(self):\n",
    "        raise NotImplementedError\n",
    "\n",
    "    def extend(self, items):\n",
    "        for item in items:\n",
    "            self.append(item)\n",
    "\n",
    "    \n",
    "class PriorityQueue(Queue):\n",
    "\n",
    "    def __init__(self, order=min, f=lambda x: x):\n",
    "        self.A = []\n",
    "        self.order = order\n",
    "        self.f = f\n",
    "\n",
    "    def append(self, item):\n",
    "        bisect.insort(self.A, (self.f(item), item))\n",
    "\n",
    "    def __len__(self):\n",
    "        return len(self.A)\n",
    "\n",
    "    def pop(self):\n",
    "        if self.order == min:\n",
    "            return self.A.pop(0)[1]\n",
    "        else:\n",
    "            return self.A.pop()[1]\n",
    "\n",
    "    def __contains__(self, item):\n",
    "        return any(item == pair[1] for pair in self.A)\n",
    "\n",
    "    def __getitem__(self, key):\n",
    "        for _, item in self.A:\n",
    "            if item == key:\n",
    "                return item\n",
    "\n",
    "    def __delitem__(self, key):\n",
    "        for i, (value, item) in enumerate(self.A):\n",
    "            if item == key:\n",
    "                self.A.pop(i)\n",
    "\n",
    "def best_first_graph_search(problem, f):\n",
    "    \n",
    "    # we use these two variables at the time of visualisations\n",
    "    iterations = 0\n",
    "    all_node_colors = []\n",
    "    node_colors = dict(initial_node_colors)\n",
    "    \n",
    "    f = memoize(f, 'f')\n",
    "    node = Node(problem.initial)\n",
    "    \n",
    "    node_colors[node.state] = \"red\"\n",
    "    iterations += 1\n",
    "    all_node_colors.append(dict(node_colors))\n",
    "    \n",
    "    if problem.goal_test(node.state):\n",
    "        node_colors[node.state] = \"green\"\n",
    "        iterations += 1\n",
    "        all_node_colors.append(dict(node_colors))\n",
    "        return(iterations, all_node_colors, node)\n",
    "    \n",
    "    frontier = PriorityQueue(min, f)\n",
    "    frontier.append(node)\n",
    "    \n",
    "    node_colors[node.state] = \"orange\"\n",
    "    iterations += 1\n",
    "    all_node_colors.append(dict(node_colors))\n",
    "    \n",
    "    explored = set()\n",
    "    while frontier:\n",
    "        node = frontier.pop()\n",
    "        \n",
    "        node_colors[node.state] = \"red\"\n",
    "        iterations += 1\n",
    "        all_node_colors.append(dict(node_colors))\n",
    "        \n",
    "        if problem.goal_test(node.state):\n",
    "            node_colors[node.state] = \"green\"\n",
    "            iterations += 1\n",
    "            all_node_colors.append(dict(node_colors))\n",
    "            return(iterations, all_node_colors, node)\n",
    "        \n",
    "        explored.add(node.state)\n",
    "        for child in node.expand(problem):\n",
    "            if child.state not in explored and child not in frontier:\n",
    "                frontier.append(child)\n",
    "                node_colors[child.state] = \"orange\"\n",
    "                iterations += 1\n",
    "                all_node_colors.append(dict(node_colors))\n",
    "            elif child in frontier:\n",
    "                incumbent = frontier[child]\n",
    "                if f(child) < f(incumbent):\n",
    "                    del frontier[incumbent]\n",
    "                    frontier.append(child)\n",
    "                    node_colors[child.state] = \"orange\"\n",
    "                    iterations += 1\n",
    "                    all_node_colors.append(dict(node_colors))\n",
    "\n",
    "        node_colors[node.state] = \"blue\"\n",
    "        iterations += 1\n",
    "        all_node_colors.append(dict(node_colors))\n",
    "    return None\n",
    "\n",
    "def uniform_cost_search(problem):\n",
    "    \"[Figure 3.14]\"\n",
    "    iterations, all_node_colors, node = best_first_graph_search(problem, lambda node: node.path_cost)\n",
    "    return(iterations, all_node_colors, node)"
   ]
  },
  {
   "cell_type": "markdown",
   "metadata": {},
   "source": [
    "Berikut visualisasi node yang dilalui dari kota Luebeck ke kota Munich menggunakan UCS :"
   ]
  },
  {
   "cell_type": "code",
   "execution_count": 13,
   "metadata": {},
   "outputs": [
    {
     "data": {
      "application/vnd.jupyter.widget-view+json": {
       "model_id": "4764a8555c084d4987a16eef6c0e0e03",
       "version_major": 2,
       "version_minor": 0
      },
      "text/plain": [
       "interactive(children=(IntSlider(value=0, description='iteration', max=1), Output()), _dom_classes=('widget-int…"
      ]
     },
     "metadata": {},
     "output_type": "display_data"
    },
    {
     "data": {
      "application/vnd.jupyter.widget-view+json": {
       "model_id": "99500f6760d24c8bb5cdb5db834fdaf6",
       "version_major": 2,
       "version_minor": 0
      },
      "text/plain": [
       "interactive(children=(ToggleButton(value=False, description='Visualize'), Output()), _dom_classes=('widget-int…"
      ]
     },
     "metadata": {},
     "output_type": "display_data"
    }
   ],
   "source": [
    "all_node_colors = []\n",
    "germany_problem = GraphProblem('Luebeck', 'Munich', germany_map)\n",
    "display_visual(user_input = False, algorithm = uniform_cost_search, problem = germany_problem)"
   ]
  },
  {
   "cell_type": "markdown",
   "metadata": {},
   "source": [
    "Contoh lain mencari rute terpendek dari Luebeck ke Frankfurt :"
   ]
  },
  {
   "cell_type": "code",
   "execution_count": 14,
   "metadata": {},
   "outputs": [
    {
     "data": {
      "application/vnd.jupyter.widget-view+json": {
       "model_id": "7c97492200944b83810a47601c24d282",
       "version_major": 2,
       "version_minor": 0
      },
      "text/plain": [
       "interactive(children=(IntSlider(value=0, description='iteration', max=1), Output()), _dom_classes=('widget-int…"
      ]
     },
     "metadata": {},
     "output_type": "display_data"
    },
    {
     "data": {
      "application/vnd.jupyter.widget-view+json": {
       "model_id": "68c9dbe97b4341e9ad29ed714cb1e5b5",
       "version_major": 2,
       "version_minor": 0
      },
      "text/plain": [
       "interactive(children=(ToggleButton(value=False, description='Visualize'), Output()), _dom_classes=('widget-int…"
      ]
     },
     "metadata": {},
     "output_type": "display_data"
    }
   ],
   "source": [
    "all_node_colors = []\n",
    "germany_problem = GraphProblem('Luebeck', 'Frankfurt', germany_map)\n",
    "display_visual(user_input = False, algorithm = uniform_cost_search, problem = germany_problem)"
   ]
  },
  {
   "cell_type": "markdown",
   "metadata": {},
   "source": [
    "#### ==================================================================================================================="
   ]
  },
  {
   "cell_type": "markdown",
   "metadata": {},
   "source": [
    "# Code kedua:"
   ]
  },
  {
   "cell_type": "markdown",
   "metadata": {
    "id": "6W34u3bNrnZZ"
   },
   "source": [
    "## **Uniform Cost Search**\n",
    "\n",
    "Sumber : https://cyluun.github.io/blog/uninformed-search-algorithms-in-python"
   ]
  },
  {
   "cell_type": "markdown",
   "metadata": {
    "id": "-vsfhIPKWYQG"
   },
   "source": [
    "**Import Data**"
   ]
  },
  {
   "cell_type": "code",
   "execution_count": 15,
   "metadata": {
    "id": "P52AhCLXWbVX"
   },
   "outputs": [],
   "source": [
    "import pandas as pd"
   ]
  },
  {
   "cell_type": "code",
   "execution_count": 16,
   "metadata": {
    "colab": {
     "base_uri": "https://localhost:8080/",
     "height": 204
    },
    "id": "DXoj634GXa_G",
    "outputId": "4bb5b303-9d78-4237-b567-1cc2f27a13b9"
   },
   "outputs": [
    {
     "data": {
      "text/html": [
       "<div>\n",
       "<style scoped>\n",
       "    .dataframe tbody tr th:only-of-type {\n",
       "        vertical-align: middle;\n",
       "    }\n",
       "\n",
       "    .dataframe tbody tr th {\n",
       "        vertical-align: top;\n",
       "    }\n",
       "\n",
       "    .dataframe thead th {\n",
       "        text-align: right;\n",
       "    }\n",
       "</style>\n",
       "<table border=\"1\" class=\"dataframe\">\n",
       "  <thead>\n",
       "    <tr style=\"text-align: right;\">\n",
       "      <th></th>\n",
       "      <th>Source</th>\n",
       "      <th>Target</th>\n",
       "      <th>Weight</th>\n",
       "    </tr>\n",
       "  </thead>\n",
       "  <tbody>\n",
       "    <tr>\n",
       "      <th>0</th>\n",
       "      <td>Arad</td>\n",
       "      <td>Zerind</td>\n",
       "      <td>75</td>\n",
       "    </tr>\n",
       "    <tr>\n",
       "      <th>1</th>\n",
       "      <td>Arad</td>\n",
       "      <td>Timisoara</td>\n",
       "      <td>118</td>\n",
       "    </tr>\n",
       "    <tr>\n",
       "      <th>2</th>\n",
       "      <td>Arad</td>\n",
       "      <td>Sibiu</td>\n",
       "      <td>140</td>\n",
       "    </tr>\n",
       "    <tr>\n",
       "      <th>3</th>\n",
       "      <td>Zerind</td>\n",
       "      <td>Arad</td>\n",
       "      <td>75</td>\n",
       "    </tr>\n",
       "    <tr>\n",
       "      <th>4</th>\n",
       "      <td>Zerind</td>\n",
       "      <td>Oradea</td>\n",
       "      <td>71</td>\n",
       "    </tr>\n",
       "  </tbody>\n",
       "</table>\n",
       "</div>"
      ],
      "text/plain": [
       "   Source     Target  Weight\n",
       "0    Arad     Zerind      75\n",
       "1    Arad  Timisoara     118\n",
       "2    Arad      Sibiu     140\n",
       "3  Zerind       Arad      75\n",
       "4  Zerind     Oradea      71"
      ]
     },
     "execution_count": 16,
     "metadata": {},
     "output_type": "execute_result"
    }
   ],
   "source": [
    "data = pd.read_csv(\"https://raw.githubusercontent.com/arinams/Artificial-Intelligence/main/Romania%20Map.csv\")\n",
    "data.head()"
   ]
  },
  {
   "cell_type": "markdown",
   "metadata": {
    "id": "ATsSCR3z2PFi"
   },
   "source": [
    "**Mendefinisikan Graph**"
   ]
  },
  {
   "cell_type": "code",
   "execution_count": 17,
   "metadata": {
    "id": "ErOEnzbU_SgN"
   },
   "outputs": [],
   "source": [
    "class Graph:\n",
    "    def __init__(self):\n",
    "        self.edges = {}\n",
    "        self.weights = {}\n",
    "\n",
    "    def neighbors(self, node):\n",
    "        return self.edges[node]\n",
    "\n",
    "    def get_cost(self, from_node, to_node):\n",
    "        return self.weights[(from_node, to_node)]"
   ]
  },
  {
   "cell_type": "markdown",
   "metadata": {
    "id": "nlueXKi8WdJz"
   },
   "source": [
    "**Merubah Data Menjadi Graph**\n",
    "\n",
    "Sumber : https://www.geeksforgeeks.org/generate-graph-using-dictionary-python/"
   ]
  },
  {
   "cell_type": "code",
   "execution_count": 18,
   "metadata": {
    "id": "JcNGYN1fWlrw"
   },
   "outputs": [],
   "source": [
    "from collections import defaultdict\n",
    "\n",
    "edges = defaultdict(list)\n",
    "weight = defaultdict(int)\n",
    "\n",
    "def addEdge(edges,u,v):\n",
    "    edges[u].append(v)\n",
    "\n",
    "def addWeight(weight, u, v, w):\n",
    "    weight[u, v] = w\n",
    "\n",
    "for i in range(len(data)):\n",
    "    addEdge(edges,data[\"Source\"][i], data[\"Target\"][i])\n",
    "    addWeight(weight, data[\"Source\"][i], data[\"Target\"][i], data[\"Weight\"][i])\n",
    "\n",
    "graph = Graph()\n",
    "graph.edges = edges\n",
    "graph.weights = weight"
   ]
  },
  {
   "cell_type": "markdown",
   "metadata": {
    "id": "Df9zV5RA2BPc"
   },
   "source": [
    "**Fungsi Uniform Cost Search**\n",
    "\n",
    "1. Masukkan node awal ke dalam queue\n",
    "2. Ulangi selama queue tidak kosong:\n",
    "  -\tHapus elemen berikutnya dengan prioritas tertinggi dari queue\n",
    "  -\tJika node adalah node tujuan, maka cetak cost dan path dan kemudian exit\n",
    "  -\tSelain itu, masukkan semua turunan dari elemen yang dihapus ke dalam antrian dengan biaya kumulatifnya sebagai prioritas mereka.\n"
   ]
  },
  {
   "cell_type": "code",
   "execution_count": 19,
   "metadata": {
    "id": "wmiD7IBnCjC8"
   },
   "outputs": [],
   "source": [
    "from queue import PriorityQueue"
   ]
  },
  {
   "cell_type": "code",
   "execution_count": 20,
   "metadata": {
    "id": "pZI02ApeIMo0"
   },
   "outputs": [],
   "source": [
    "def ucs(graph, start, goal):\n",
    "    visited = set()\n",
    "    queue = PriorityQueue()\n",
    "    queue.put((0, start, [start]))\n",
    "\n",
    "    while queue:\n",
    "        cost, node, path = queue.get()\n",
    "        if node not in visited:\n",
    "            print(\"Checking node\", node)\n",
    "            visited.add(node)\n",
    "\n",
    "            if node == goal:\n",
    "                print(\"Destination node found!\")\n",
    "                print(\"Path :\", path)\n",
    "                print(\"Total Cost :\", cost)\n",
    "                return\n",
    "            for i in graph.neighbors(node):\n",
    "                if i not in visited:\n",
    "                    total_cost = cost + graph.get_cost(node, i)\n",
    "                    queue.put((total_cost, i, path + [i]))\n"
   ]
  },
  {
   "cell_type": "code",
   "execution_count": 21,
   "metadata": {
    "colab": {
     "base_uri": "https://localhost:8080/"
    },
    "id": "DaWfyy7ZCBRu",
    "outputId": "b667414d-1ea5-47d1-ece2-b3c79d3c2034",
    "scrolled": true
   },
   "outputs": [
    {
     "name": "stdout",
     "output_type": "stream",
     "text": [
      "Checking node Arad\n",
      "Checking node Zerind\n",
      "Checking node Timisoara\n",
      "Checking node Sibiu\n",
      "Checking node Oradea\n",
      "Checking node Rimnicu Vilcea\n",
      "Checking node Lugoj\n",
      "Checking node Fagaras\n",
      "Checking node Mehadia\n",
      "Checking node Pitesti\n",
      "Checking node Craiova\n",
      "Checking node Dobreta\n",
      "Checking node Bucharest\n",
      "Destination node found!\n",
      "Path : ['Arad', 'Sibiu', 'Rimnicu Vilcea', 'Pitesti', 'Bucharest']\n",
      "Total Cost : 418\n"
     ]
    }
   ],
   "source": [
    "ucs(graph, 'Arad', 'Bucharest')"
   ]
  },
  {
   "cell_type": "code",
   "execution_count": null,
   "metadata": {},
   "outputs": [],
   "source": []
  }
 ],
 "metadata": {
  "kernelspec": {
   "display_name": "Python 3",
   "language": "python",
   "name": "python3"
  },
  "language_info": {
   "codemirror_mode": {
    "name": "ipython",
    "version": 3
   },
   "file_extension": ".py",
   "mimetype": "text/x-python",
   "name": "python",
   "nbconvert_exporter": "python",
   "pygments_lexer": "ipython3",
   "version": "3.8.3"
  }
 },
 "nbformat": 4,
 "nbformat_minor": 4
}
